{
 "cells": [
  {
   "cell_type": "markdown",
   "source": [
    "# Comprehension Challenge for the `matplotlib` lessons"
   ],
   "metadata": {}
  },
  {
   "cell_type": "markdown",
   "source": [
    "These challenges will test your knowledge on the topics covered in the `matplotlib` lessons. \n",
    "\n",
    "<br><br>\n",
    "\n",
    "Once you are happy with your plots, upload this repo to your github and post a link to **_your_** github repo for the challenge solution.\n",
    "\n",
    "<br>"
   ],
   "metadata": {}
  },
  {
   "cell_type": "markdown",
   "source": [
    "---"
   ],
   "metadata": {}
  },
  {
   "cell_type": "markdown",
   "source": [
    "## Challenge 1\n",
    "<br>\n",
    "\n",
    "For the first challenge make a **line plot**  using the Johnson & Johnson quaterly profits starting in 1960, ending in 1980. \n",
    "<br>\n",
    "\n",
    "You will need to do a little work to organize this data in a way that is useful for plotting.\n",
    "\n",
    "\n",
    "```\n",
    "      Qtr1  Qtr2  Qtr3  Qtr4\n",
    "      ----  ----  ----  ----\n",
    "1960  0.71  0.63  0.85  0.44\n",
    "1961  0.61  0.69  0.92  0.55\n",
    "1962  0.72  0.77  0.92  0.60\n",
    "1963  0.83  0.80  1.00  0.77\n",
    "1964  0.92  1.00  1.24  1.00\n",
    "1965  1.16  1.30  1.45  1.25\n",
    "1966  1.26  1.38  1.86  1.56\n",
    "1967  1.53  1.59  1.83  1.86\n",
    "1968  1.53  2.07  2.34  2.25\n",
    "1969  2.16  2.43  2.70  2.25\n",
    "1970  2.79  3.42  3.69  3.60\n",
    "1971  3.60  4.32  4.32  4.05\n",
    "1972  4.86  5.04  5.04  4.41\n",
    "1973  5.58  5.85  6.57  5.31\n",
    "1974  6.03  6.39  6.93  5.85\n",
    "1975  6.93  7.74  7.83  6.12\n",
    "1976  7.74  8.91  8.28  6.84\n",
    "1977  9.54 10.26  9.54  8.73\n",
    "1978 11.88 12.06 12.15  8.91\n",
    "1979 14.04 12.96 14.85  9.99\n",
    "1980 16.20 14.67 16.02 11.61\n",
    "```\n",
    "\n",
    "You should produce a line graph with the following:\n",
    "* The x-axis should show the time. You will need to use np.linspace() to create an array of x data which aligns with each of the quarterly data points. That is, you will need an array of evenly spaced values starting at 1960, ending at 1981 (exclusive) with four points per year, i.e. [1960, 1960.25, 1960.5, 1960.75, 1961, .... , 1980.75]\n",
    "* The y-axis should have the earnings data\n",
    "* The x-axis label should be \"Year\"\n",
    "* The y-axis label should be \"Earnings per share (U.S. Dollars)\"\n",
    "* The title of the plot should be \"Johnson and Johnson Quarterly Earnings\"\n",
    "\n",
    "If everything is done correctly the plot should look like: \n",
    "\n",
    "![Johnson and Johnson Plot](./images/jj_earnings_example.png)"
   ],
   "metadata": {}
  },
  {
   "cell_type": "code",
   "execution_count": 1,
   "source": [
    "'''\n",
    "0.71  0.63  0.85  0.44\n",
    "0.61  0.69  0.92  0.55\n",
    "0.72  0.77  0.92  0.60\n",
    "0.83  0.80  1.00  0.77\n",
    "0.92  1.00  1.24  1.00\n",
    "1.16  1.30  1.45  1.25\n",
    "1.26  1.38  1.86  1.56\n",
    "1.53  1.59  1.83  1.86\n",
    "1.53  2.07  2.34  2.25\n",
    "2.16  2.43  2.70  2.25\n",
    "2.79  3.42  3.69  3.60\n",
    "3.60  4.32  4.32  4.05\n",
    "4.86  5.04  5.04  4.41\n",
    "5.58  5.85  6.57  5.31\n",
    "6.03  6.39  6.93  5.85\n",
    "6.93  7.74  7.83  6.12\n",
    "7.74  8.91  8.28  6.84\n",
    "9.54  10.26  9.54  8.73\n",
    "11.88  12.06  12.15  8.91\n",
    "14.04  12.96  14.85  9.99\n",
    "16.20  14.67  16.02  11.61\n",
    "'''\n",
    "\n",
    "# Add your import here\n",
    "\n",
    "\n",
    "# Make the plot below\n",
    "plt.figure(figsize = (8, 5)) # Don't change this code or the test wont work!\n"
   ],
   "outputs": [],
   "metadata": {}
  },
  {
   "cell_type": "markdown",
   "source": [
    "Once you're happy with your plot, paste your code in the cell below. Replace `plt.show()` with `plt.savefig('./images/jj_earnings.png')` and execute the cell to export the image to a file."
   ],
   "metadata": {}
  },
  {
   "cell_type": "code",
   "execution_count": null,
   "source": [
    "# save your image here\n",
    "plt.figure(figsize = (8, 5)) # Don't change this code or the test wont work!"
   ],
   "outputs": [],
   "metadata": {}
  },
  {
   "cell_type": "markdown",
   "source": [
    "<br><br>\n",
    "\n",
    "---\n",
    "\n",
    "<br><br>"
   ],
   "metadata": {}
  },
  {
   "cell_type": "markdown",
   "source": [
    "## Challenge 2\n",
    "\n",
    "For the second challenge, make a bivariate normal distribution. We haven't covered what a bivariate distribution is yet, but you can think of it like this for now:\n",
    "\n",
    "You have a data set of x and y components (IE `(x, y)`), where the x value is pulled from a normal distribution with $ \\mu = 0 $ and $ \\sigma = 2 $, and y is pulled from a normal distribution with $ \\mu = 0 $ and $ \\sigma = 2 $. Note for this challenge the x and y components are given to you.\n",
    "\n",
    "For this challenge:\n",
    "* Make a scatter plot of the data (to make it look nice set `marker = 'ok'`, set the `markersize = 3`, and set `alpha = 0.2`)\n",
    "* Modify the plot to set the limits of the x-axis at (-4, 4), and the y-axis to (-8, 8)\n",
    "* Modify the given plot to have ticks and labels at every odd number, and zero of each axis.\n",
    "* Once you have created the plot, display it using `plt.show()`\n",
    "* Include a title that says `'Bivariate Normal Distribution'`\n",
    "\n",
    "If everything is done correctly the plot should look like:\n",
    "\n",
    "![Bivariate Normal Plot](./images/bnp_example.png)"
   ],
   "metadata": {}
  },
  {
   "cell_type": "code",
   "execution_count": null,
   "source": [
    "import numpy as np\n",
    "\n",
    "np.random.seed(1113)\n",
    "\n",
    "x = np.random.normal(0, 2, 2000)\n",
    "y = np.random.normal(0, 4, 2000)\n",
    "\n",
    "# Make your plot below\n",
    "plt.figure(figsize = (7, 5)) # Don't change this code or the test wont work!\n",
    "\n"
   ],
   "outputs": [],
   "metadata": {}
  },
  {
   "cell_type": "markdown",
   "source": [
    "Once you are happy with your plot, replace the `plt.show()` with `plt.savefig('./images/bivariate_normal_plot.png')` and execute the cell to export the image to a file."
   ],
   "metadata": {}
  },
  {
   "cell_type": "code",
   "execution_count": null,
   "source": [
    "# Save your function below\n",
    "plt.figure(figsize = (7, 5)) # Don't change this code or the test wont work!"
   ],
   "outputs": [],
   "metadata": {}
  },
  {
   "cell_type": "markdown",
   "source": [
    "<br><br>\n",
    "\n",
    "---\n",
    "\n",
    "<br><br>"
   ],
   "metadata": {}
  },
  {
   "cell_type": "markdown",
   "source": [
    "## Challenge 3\n",
    "\n",
    "For challenge 3 you will be working with the sklearn wine data set. The wine data set has three different types of wine, stored as integer 0, 1, and 2. This problem will require you to make a histogram of the ABV variable from the data set.\n",
    "\n",
    "For this challenge you must created a 1 row 3 column plot where you:\n",
    "* Seperate the data into three different variables based on its class\n",
    "* The first subplot should be a histogram of class 0. It should have red bars and be seperated into 15 bins\n",
    "* The second subplot should be a histogram of class 1. It should have blue bars and be seperated into 15 bins\n",
    "* The third subplot should be a histogram of class 2. It should have green bars and be seperated into 15 bins\n",
    "* Title this plot `'ABV by Wine Type'`\n",
    "* Each subplots x-axis should say which class is bing plotted in that histogram\n",
    "* All three subplots y axis should have a range from 0 to 15\n",
    "\n",
    "If everything is done correctly the plot should look like:\n",
    "![ABV Plot](./images/abv_example.png)"
   ],
   "metadata": {}
  },
  {
   "cell_type": "code",
   "execution_count": null,
   "source": [
    "from sklearn.datasets import load_wine\n",
    "\n",
    "data = load_wine()['data'][:, 0] # gets the ABV column\n",
    "clss = load_wine()['target'] # gets the class of each data point\n",
    "\n",
    "# make your plot below\n",
    "plt.figure(figsize = (7, 4)) # Don't change this code or the test wont work!"
   ],
   "outputs": [],
   "metadata": {}
  },
  {
   "cell_type": "markdown",
   "source": [
    "Once you are happy with your plot, replace the `plt.show()` with `plt.savefig('./images/ABV_histograms.png')` and execute the cells to save you histograms."
   ],
   "metadata": {}
  },
  {
   "cell_type": "code",
   "execution_count": null,
   "source": [
    "# Save your plot here\n",
    "plt.figure(figsize = (7, 4)) # Don't change this code or the test wont work!"
   ],
   "outputs": [],
   "metadata": {}
  },
  {
   "cell_type": "markdown",
   "source": [
    "<br><br>\n",
    "\n",
    "---\n",
    "\n",
    "<br><br>"
   ],
   "metadata": {}
  },
  {
   "cell_type": "markdown",
   "source": [
    "## Challenge 4\n",
    "\n",
    "Recreate the following plot with the following changes:\n",
    "\n",
    "![Grid Layout](images/gridlayout.png)\n",
    "\n",
    "\n",
    "1. For the subplot labeled 1 make a scatter plot of a  sine wave with the values stored in x1. This plot should be title `\"Sin(x)\"`\n",
    "2. For the subplot labeled 2, make a histogram with 100 bins of the values stored in x1. This plot should be title `\"Data\"`\n",
    "3. For the subplot labeled 3, make a scatter plot of a cosine wave with the values stored in x2. This plot should be called `\"Cos(x)\"`\n",
    "4. for the subplot labeled 4, make a histogram of the values stored in x2. This plot should be called `\"Data\"`\n",
    "\n",
    "If everything is done correctly the plot should look like:\n",
    "\n",
    "![Distributed Wave](./images/ndw_example.png)"
   ],
   "metadata": {}
  },
  {
   "cell_type": "code",
   "execution_count": null,
   "source": [
    "np.random.seed(1000)\n",
    "\n",
    "x1 = np.random.normal(0, 3, 40)\n",
    "x2 = np.random.normal(0, 3, 40)\n",
    "\n",
    "# make plot below\n",
    "plt.figure(figsize = (6, 5))"
   ],
   "outputs": [],
   "metadata": {}
  },
  {
   "cell_type": "markdown",
   "source": [
    "Once you are happy with your code paste it below and change the `plt.show()` to `plt.savefig('./images/normally_distributed_wave.png')`."
   ],
   "metadata": {}
  },
  {
   "cell_type": "code",
   "execution_count": null,
   "source": [
    "# Save your code here\n",
    "plt.figure(figsize = (6, 5))"
   ],
   "outputs": [],
   "metadata": {}
  }
 ],
 "metadata": {
  "kernelspec": {
   "display_name": "Python 3",
   "language": "python",
   "name": "python3"
  },
  "language_info": {
   "codemirror_mode": {
    "name": "ipython",
    "version": 3
   },
   "file_extension": ".py",
   "mimetype": "text/x-python",
   "name": "python",
   "nbconvert_exporter": "python",
   "pygments_lexer": "ipython3",
   "version": "3.9.1"
  }
 },
 "nbformat": 4,
 "nbformat_minor": 5
}